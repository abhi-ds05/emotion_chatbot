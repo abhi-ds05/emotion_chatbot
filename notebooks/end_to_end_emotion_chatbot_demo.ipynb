{
 "cells": [
  {
   "cell_type": "markdown",
   "id": "0f7419c0",
   "metadata": {},
   "source": [
    "# End-to-End Emotion Chatbot Demo\n",
    "\n",
    "This notebook demonstrates the complete flow of an emotion-aware chatbot which:\n",
    "- Predicts the user’s emotion from their message using a fine-tuned emotion classifier.\n",
    "- Generates an emotionally tailored response using a large language model (LLM).\n",
    "\n",
    "You can interactively test the chatbot by typing messages and seeing the detected emotion and bot reply.\n"
   ]
  },
  {
   "cell_type": "code",
   "execution_count": 4,
   "id": "a51dbe26",
   "metadata": {},
   "outputs": [],
   "source": [
    "import sys\n",
    "import os\n",
    "\n",
    "# Adjust this path to point to the root directory of your project (the one containing 'services/')\n",
    "PROJECT_ROOT = os.path.abspath(\"..\")  # if you're in notebooks/, go one level up\n",
    "if PROJECT_ROOT not in sys.path:\n",
    "    sys.path.append(PROJECT_ROOT)\n"
   ]
  },
  {
   "cell_type": "code",
   "execution_count": 5,
   "id": "2c05f605",
   "metadata": {},
   "outputs": [
    {
     "name": "stdout",
     "output_type": "stream",
     "text": [
      "Using device: cpu\n"
     ]
    }
   ],
   "source": [
    "# Import necessary libraries and your service modules\n",
    "from services.nlp_services import EmotionClassifierService\n",
    "from services.generation_services import ResponseGeneratorService\n",
    "\n",
    "import torch\n",
    "import ipywidgets as widgets\n",
    "from IPython.display import display, clear_output\n",
    "import matplotlib.pyplot as plt\n",
    "\n",
    "# Check device\n",
    "print(\"Using device:\", \"cuda\" if torch.cuda.is_available() else \"cpu\")\n"
   ]
  },
  {
   "cell_type": "code",
   "execution_count": 6,
   "id": "3795e37f",
   "metadata": {},
   "outputs": [
    {
     "name": "stderr",
     "output_type": "stream",
     "text": [
      "W0801 11:14:35.655000 21112 Lib\\site-packages\\torch\\distributed\\elastic\\multiprocessing\\redirects.py:29] NOTE: Redirects are currently not supported in Windows or MacOs.\n"
     ]
    },
    {
     "data": {
      "application/vnd.jupyter.widget-view+json": {
       "model_id": "7a2a9c73714b4018910d17da87acce1b",
       "version_major": 2,
       "version_minor": 0
      },
      "text/plain": [
       "Loading checkpoint shards:   0%|          | 0/3 [00:00<?, ?it/s]"
      ]
     },
     "metadata": {},
     "output_type": "display_data"
    }
   ],
   "source": [
    "from services.nlp_services import EmotionClassifierService\n",
    "from services.generation_services import ResponseGeneratorService\n",
    "\n",
    "# Paths and models\n",
    "EMOTION_MODEL_PATH = '../data/models/meld_emotion_model'\n",
    "GENERATION_MODEL_NAME = 'mistralai/Mistral-7B-Instruct-v0.2'\n",
    "HF_TOKEN = None\n",
    "\n",
    "# Define MELD label map manually\n",
    "LABEL_MAP = {\n",
    "    0: \"anger\",\n",
    "    1: \"disgust\",\n",
    "    2: \"fear\",\n",
    "    3: \"joy\",\n",
    "    4: \"neutral\",\n",
    "    5: \"sadness\",\n",
    "    6: \"surprise\"\n",
    "}\n",
    "\n",
    "# Create service instances\n",
    "emotion_classifier = EmotionClassifierService(model_name=EMOTION_MODEL_PATH, label_map=LABEL_MAP, hf_token=HF_TOKEN)\n",
    "response_generator = ResponseGeneratorService(model_name=GENERATION_MODEL_NAME, hf_token=HF_TOKEN)\n"
   ]
  },
  {
   "cell_type": "code",
   "execution_count": 7,
   "id": "c486cf81",
   "metadata": {},
   "outputs": [],
   "source": [
    "# Define the chatbot pipeline function\n",
    "def chatbot_reply(user_message: str):\n",
    "    # Step 1: Emotion detection\n",
    "    emotion = emotion_classifier.predict(user_message)\n",
    "\n",
    "    # Step 2: Generate response conditioned on the detected emotion\n",
    "    response = response_generator.generate_response(user_message, emotion)\n",
    "\n",
    "    return emotion, response\n"
   ]
  },
  {
   "cell_type": "code",
   "execution_count": 8,
   "id": "9fa03c97",
   "metadata": {},
   "outputs": [
    {
     "data": {
      "image/png": "[encoded data removed]",
      "text/plain": [
       "<Figure size 800x400 with 1 Axes>"
      ]
     },
     "metadata": {},
     "output_type": "display_data"
    }
   ],
   "source": [
    "import matplotlib.pyplot as plt\n",
    "\n",
    "%matplotlib inline\n",
    "\n",
    "def plot_emotion_probabilities(text):\n",
    "    probs = emotion_classifier.predict_proba(text)\n",
    "    plt.figure(figsize=(8,4))\n",
    "    plt.bar(probs.keys(), probs.values(), color='skyblue')\n",
    "    plt.title(\"Emotion Prediction Probabilities\")\n",
    "    plt.ylabel(\"Probability\")\n",
    "    plt.xticks(rotation=45)\n",
    "    plt.show()\n",
    "\n",
    "plot_emotion_probabilities(\"I'm feeling really happy today!\")\n"
   ]
  },
  {
   "cell_type": "code",
   "execution_count": 11,
   "id": "a3c897af",
   "metadata": {},
   "outputs": [
    {
     "data": {
      "application/vnd.jupyter.widget-view+json": {
       "model_id": "063a8fef09514cda9b6b1df297e016fc",
       "version_major": 2,
       "version_minor": 0
      },
      "text/plain": [
       "HBox(children=(Text(value='', description='You:', layout=Layout(width='70%'), placeholder='Type your message h…"
      ]
     },
     "metadata": {},
     "output_type": "display_data"
    },
    {
     "data": {
      "application/vnd.jupyter.widget-view+json": {
       "model_id": "8853aa462f53459aa8d2f79fe6efcf9c",
       "version_major": 2,
       "version_minor": 0
      },
      "text/plain": [
       "Output()"
      ]
     },
     "metadata": {},
     "output_type": "display_data"
    }
   ],
   "source": [
    "from IPython.display import display, clear_output\n",
    "import ipywidgets as widgets\n",
    "\n",
    "# --- Input widgets ---\n",
    "user_input = widgets.Text(\n",
    "    value='',\n",
    "    placeholder='Type your message here...',\n",
    "    description='You:',\n",
    "    layout=widgets.Layout(width='70%')\n",
    ")\n",
    "\n",
    "send_button = widgets.Button(\n",
    "    description='Send',\n",
    "    button_style='success',\n",
    "    tooltip='Click to send your message',\n",
    "    layout=widgets.Layout(width='15%')\n",
    ")\n",
    "\n",
    "# --- Output widget ---\n",
    "output_area = widgets.Output()\n",
    "\n",
    "# --- HBox layout for input + button ---\n",
    "input_row = widgets.HBox([user_input, send_button])\n",
    "\n",
    "# --- Chatbot reply function (example logic) ---\n",
    "def chatbot_reply(text):\n",
    "    label, _ = emotion_classifier.predict(text)\n",
    "    return label, f\"I'm here for you — you seem {label}.\"\n",
    "\n",
    "# --- Send handler ---\n",
    "def on_send_clicked(b):\n",
    "    text = user_input.value\n",
    "    if not text.strip():\n",
    "        return\n",
    "    \n",
    "    with output_area:\n",
    "        clear_output()\n",
    "        print(f\"User: {text}\")\n",
    "        emotion, reply = chatbot_reply(text)\n",
    "        print(f\"Detected Emotion: {emotion}\")\n",
    "        print(f\"Bot: {reply}\")\n",
    "        plot_emotion_probabilities(text)\n",
    "    \n",
    "    user_input.value = ''\n",
    "\n",
    "# Register button click event\n",
    "send_button.on_click(on_send_clicked)\n",
    "\n",
    "# Display everything\n",
    "display(input_row, output_area)\n"
   ]
  },
  {
   "cell_type": "code",
   "execution_count": null,
   "id": "e2e8772f",
   "metadata": {},
   "outputs": [],
   "source": []
  }
 ],
 "metadata": {
  "kernelspec": {
   "display_name": "venv",
   "language": "python",
   "name": "python3"
  },
  "language_info": {
   "codemirror_mode": {
    "name": "ipython",
    "version": 3
   },
   "file_extension": ".py",
   "mimetype": "text/x-python",
   "name": "python",
   "nbconvert_exporter": "python",
   "pygments_lexer": "ipython3",
   "version": "3.10.11"
  }
 },
 "nbformat": 4,
 "nbformat_minor": 5
}
